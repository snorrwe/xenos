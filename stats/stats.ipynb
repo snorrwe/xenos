{
 "cells": [
  {
   "cell_type": "code",
   "execution_count": null,
   "metadata": {},
   "outputs": [],
   "source": [
    "import fetch_stats as fs\n",
    "import pandas as pd\n",
    "import matplotlib.pyplot as plt\n",
    "\n",
    "REFRESH_DATA = 0\n",
    "\n",
    "if REFRESH_DATA:\n",
    "    reports = fs.main()\n",
    "    reports = [\n",
    "        {\n",
    "            **x,\n",
    "            'gcl': x['gcl']['progress']\n",
    "        }\n",
    "        for x in reports\n",
    "    ]\n",
    "    df = pd.DataFrame(reports)\n",
    "    df.to_csv(\"reports.csv\")\n",
    "else:\n",
    "    df = pd.read_csv(\"reports.csv\")\n",
    "    \n",
    "df['gcl delta'] = df['gcl'].diff().shift(-1)\n",
    "df['cpu abnormal'] = df[df['cpu'] > 50][\"cpu\"]\n",
    "df['cpu avg'] = df['cpu'].rolling(100).sum() / 100\n",
    "\n",
    "df.plot(y=\"population\")\n",
    "df.plot.density(y=\"cpu\")\n",
    "df.plot.density(y=\"cpu abnormal\")\n",
    "df.plot(y=\"cpu avg\")\n",
    "df.plot(y=\"gcl delta\")\n",
    "df.describe()"
   ]
  }
 ],
 "metadata": {
  "kernelspec": {
   "display_name": "Python 3",
   "language": "python",
   "name": "python3"
  },
  "language_info": {
   "codemirror_mode": {
    "name": "ipython",
    "version": 3
   },
   "file_extension": ".py",
   "mimetype": "text/x-python",
   "name": "python",
   "nbconvert_exporter": "python",
   "pygments_lexer": "ipython3",
   "version": "3.6.6"
  }
 },
 "nbformat": 4,
 "nbformat_minor": 2
}
